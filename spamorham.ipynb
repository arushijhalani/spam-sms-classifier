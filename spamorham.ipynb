{
  "nbformat": 4,
  "nbformat_minor": 0,
  "metadata": {
    "colab": {
      "provenance": []
    },
    "kernelspec": {
      "name": "python3",
      "display_name": "Python 3"
    },
    "language_info": {
      "name": "python"
    }
  },
  "cells": [
    {
      "cell_type": "code",
      "execution_count": null,
      "metadata": {
        "id": "8D9s95xarqVc"
      },
      "outputs": [],
      "source": [
        "import pandas as pd\n",
        "from sklearn.model_selection import train_test_split\n",
        "from sklearn.preprocessing import LabelEncoder\n",
        "from tensorflow.keras.preprocessing.text import Tokenizer\n",
        "from tensorflow.keras.preprocessing.sequence import pad_sequences\n",
        "from tensorflow.keras.models import Sequential\n",
        "from tensorflow.keras.layers import Embedding, LSTM, Dense, Dropout\n",
        "from sklearn.metrics import classification_report\n",
        "import seaborn as sns\n",
        "import matplotlib.pyplot as plt"
      ]
    },
    {
      "cell_type": "code",
      "source": [
        "# Load the dataset\n",
        "data = pd.read_csv('spam.csv', encoding='latin-1')\n",
        "data = data[['v1', 'v2']]  # Selecting relevant columns"
      ],
      "metadata": {
        "id": "Cvzbr2dF3rh2"
      },
      "execution_count": null,
      "outputs": []
    },
    {
      "cell_type": "code",
      "source": [
        "#Shape Of Data\n",
        "data.shape"
      ],
      "metadata": {
        "colab": {
          "base_uri": "https://localhost:8080/"
        },
        "id": "5tEkMasX385V",
        "outputId": "ae88b3e1-1568-41d0-f800-9137402c960e"
      },
      "execution_count": null,
      "outputs": [
        {
          "output_type": "execute_result",
          "data": {
            "text/plain": [
              "(5572, 2)"
            ]
          },
          "metadata": {},
          "execution_count": 14
        }
      ]
    },
    {
      "cell_type": "code",
      "source": [
        "#Info Of Data\n",
        "data.info()"
      ],
      "metadata": {
        "colab": {
          "base_uri": "https://localhost:8080/"
        },
        "id": "kW_q4tWO3-eG",
        "outputId": "33c4ad83-b627-4720-cf4f-1d1d3108ed4e"
      },
      "execution_count": null,
      "outputs": [
        {
          "output_type": "stream",
          "name": "stdout",
          "text": [
            "<class 'pandas.core.frame.DataFrame'>\n",
            "RangeIndex: 5572 entries, 0 to 5571\n",
            "Data columns (total 2 columns):\n",
            " #   Column  Non-Null Count  Dtype \n",
            "---  ------  --------------  ----- \n",
            " 0   v1      5572 non-null   object\n",
            " 1   v2      5572 non-null   object\n",
            "dtypes: object(2)\n",
            "memory usage: 87.2+ KB\n"
          ]
        }
      ]
    },
    {
      "cell_type": "code",
      "source": [
        "#NULL Data\n",
        "data.isna().sum()"
      ],
      "metadata": {
        "colab": {
          "base_uri": "https://localhost:8080/"
        },
        "id": "uvVxBeTw4CBt",
        "outputId": "66e7471c-f05e-44d4-d577-cacf01ddce9b"
      },
      "execution_count": null,
      "outputs": [
        {
          "output_type": "execute_result",
          "data": {
            "text/plain": [
              "v1    0\n",
              "v2    0\n",
              "dtype: int64"
            ]
          },
          "metadata": {},
          "execution_count": 16
        }
      ]
    },
    {
      "cell_type": "code",
      "source": [
        "data.describe"
      ],
      "metadata": {
        "colab": {
          "base_uri": "https://localhost:8080/"
        },
        "id": "vKePB4HM4JVJ",
        "outputId": "a90ab37f-548c-4398-feba-1a3fb59d66d4"
      },
      "execution_count": null,
      "outputs": [
        {
          "output_type": "execute_result",
          "data": {
            "text/plain": [
              "<bound method NDFrame.describe of         v1                                                 v2\n",
              "0      ham  Go until jurong point, crazy.. Available only ...\n",
              "1      ham                      Ok lar... Joking wif u oni...\n",
              "2     spam  Free entry in 2 a wkly comp to win FA Cup fina...\n",
              "3      ham  U dun say so early hor... U c already then say...\n",
              "4      ham  Nah I don't think he goes to usf, he lives aro...\n",
              "...    ...                                                ...\n",
              "5567  spam  This is the 2nd time we have tried 2 contact u...\n",
              "5568   ham              Will Ì_ b going to esplanade fr home?\n",
              "5569   ham  Pity, * was in mood for that. So...any other s...\n",
              "5570   ham  The guy did some bitching but I acted like i'd...\n",
              "5571   ham                         Rofl. Its true to its name\n",
              "\n",
              "[5572 rows x 2 columns]>"
            ]
          },
          "metadata": {},
          "execution_count": 23
        }
      ]
    },
    {
      "cell_type": "code",
      "source": [
        "data.v1.value_counts()"
      ],
      "metadata": {
        "colab": {
          "base_uri": "https://localhost:8080/"
        },
        "id": "AWXwtZIl4ZEM",
        "outputId": "848d3c0b-d886-4e36-a8a1-5348824317c4"
      },
      "execution_count": null,
      "outputs": [
        {
          "output_type": "execute_result",
          "data": {
            "text/plain": [
              "ham     4825\n",
              "spam     747\n",
              "Name: v1, dtype: int64"
            ]
          },
          "metadata": {},
          "execution_count": 20
        }
      ]
    },
    {
      "cell_type": "code",
      "source": [
        "sns.countplot(x='v1',data=data,palette='Blues')\n",
        "plt.title('Distribution Of Target',fontsize=20)\n",
        "plt.xlabel('Target',fontsize=20)\n",
        "plt.ylabel('Count',fontsize=20)\n",
        "plt.grid(True)\n",
        "plt.xticks(rotation=45)\n",
        "plt.yticks(rotation=45)\n",
        "plt.show()"
      ],
      "metadata": {
        "colab": {
          "base_uri": "https://localhost:8080/",
          "height": 517
        },
        "id": "7IJKU9IM4gXZ",
        "outputId": "efb13684-d7bb-403c-99b6-c89313b49246"
      },
      "execution_count": null,
      "outputs": [
        {
          "output_type": "display_data",
          "data": {
            "text/plain": [
              "<Figure size 640x480 with 1 Axes>"
            ],
            "image/png": "[encoded data removed]"
          },
          "metadata": {}
        }
      ]
    },
    {
      "cell_type": "code",
      "source": [
        "# Preprocessing\n",
        "le = LabelEncoder()\n",
        "data['v1'] = le.fit_transform(data['v1'])  # Convert labels to binary\n",
        "\n",
        "X = data['v2']\n",
        "y = data['v1']\n",
        "\n",
        "X_train, X_test, y_train, y_test = train_test_split(X, y, test_size=0.2, random_state=42)\n",
        "\n"
      ],
      "metadata": {
        "id": "5azb9uGA30Xg"
      },
      "execution_count": null,
      "outputs": []
    },
    {
      "cell_type": "code",
      "source": [
        "# Tokenization and Padding\n",
        "max_words = 10000\n",
        "tokenizer = Tokenizer(num_words=max_words)\n",
        "tokenizer.fit_on_texts(X_train)\n",
        "\n",
        "X_train_seq = tokenizer.texts_to_sequences(X_train)\n",
        "X_test_seq = tokenizer.texts_to_sequences(X_test)\n",
        "\n",
        "max_sequence_length = 150\n",
        "X_train_pad = pad_sequences(X_train_seq, maxlen=max_sequence_length)\n",
        "X_test_pad = pad_sequences(X_test_seq, maxlen=max_sequence_length)"
      ],
      "metadata": {
        "id": "S2GPbFet41rt"
      },
      "execution_count": null,
      "outputs": []
    },
    {
      "cell_type": "code",
      "source": [
        "\n",
        "# Model\n",
        "embedding_dim = 100\n",
        "\n",
        "model = Sequential()\n",
        "model.add(Embedding(input_dim=max_words, output_dim=embedding_dim, input_length=max_sequence_length))\n",
        "model.add(LSTM(128, dropout=0.2, recurrent_dropout=0.2))\n",
        "model.add(Dense(1, activation='sigmoid'))\n",
        "\n",
        "model.compile(loss='binary_crossentropy', optimizer='adam', metrics=['accuracy'])\n",
        "model.summary()"
      ],
      "metadata": {
        "colab": {
          "base_uri": "https://localhost:8080/"
        },
        "id": "m-A0PGjC42co",
        "outputId": "c7778a4b-0a81-4c58-a95e-c3f0610adff7"
      },
      "execution_count": null,
      "outputs": [
        {
          "output_type": "stream",
          "name": "stdout",
          "text": [
            "Model: \"sequential_1\"\n",
            "_________________________________________________________________\n",
            " Layer (type)                Output Shape              Param #   \n",
            "=================================================================\n",
            " embedding_1 (Embedding)     (None, 150, 100)          1000000   \n",
            "                                                                 \n",
            " lstm_1 (LSTM)               (None, 128)               117248    \n",
            "                                                                 \n",
            " dense_1 (Dense)             (None, 1)                 129       \n",
            "                                                                 \n",
            "=================================================================\n",
            "Total params: 1,117,377\n",
            "Trainable params: 1,117,377\n",
            "Non-trainable params: 0\n",
            "_________________________________________________________________\n"
          ]
        }
      ]
    },
    {
      "cell_type": "code",
      "source": [
        "# Training\n",
        "batch_size = 64\n",
        "epochs = 5\n",
        "model.fit(X_train_pad, y_train, batch_size=batch_size, epochs=epochs, validation_split=0.2)"
      ],
      "metadata": {
        "colab": {
          "base_uri": "https://localhost:8080/"
        },
        "id": "1AFZ4rco45Fb",
        "outputId": "3955afdf-4e9f-4796-d56d-1b720c06471c"
      },
      "execution_count": null,
      "outputs": [
        {
          "output_type": "stream",
          "name": "stdout",
          "text": [
            "Epoch 1/5\n",
            "56/56 [==============================] - 23s 362ms/step - loss: 0.2777 - accuracy: 0.9046 - val_loss: 0.0870 - val_accuracy: 0.9798\n",
            "Epoch 2/5\n",
            "56/56 [==============================] - 19s 348ms/step - loss: 0.0428 - accuracy: 0.9871 - val_loss: 0.0521 - val_accuracy: 0.9865\n",
            "Epoch 3/5\n",
            "56/56 [==============================] - 20s 350ms/step - loss: 0.0177 - accuracy: 0.9941 - val_loss: 0.0517 - val_accuracy: 0.9865\n",
            "Epoch 4/5\n",
            "56/56 [==============================] - 27s 484ms/step - loss: 0.0065 - accuracy: 0.9980 - val_loss: 0.0508 - val_accuracy: 0.9854\n",
            "Epoch 5/5\n",
            "56/56 [==============================] - 30s 543ms/step - loss: 0.0030 - accuracy: 1.0000 - val_loss: 0.0625 - val_accuracy: 0.9854\n"
          ]
        },
        {
          "output_type": "execute_result",
          "data": {
            "text/plain": [
              "<keras.callbacks.History at 0x7a722d753190>"
            ]
          },
          "metadata": {},
          "execution_count": 27
        }
      ]
    },
    {
      "cell_type": "code",
      "source": [
        "# Evaluation\n",
        "y_pred_prob = model.predict(X_test_pad)\n",
        "y_pred = (y_pred_prob > 0.5).astype(int)\n",
        "\n",
        "print(classification_report(y_test, y_pred))"
      ],
      "metadata": {
        "colab": {
          "base_uri": "https://localhost:8080/"
        },
        "id": "VdbRl1HF49nh",
        "outputId": "64e5ce08-d1fd-421b-f827-e7209974c59b"
      },
      "execution_count": null,
      "outputs": [
        {
          "output_type": "stream",
          "name": "stdout",
          "text": [
            "35/35 [==============================] - 1s 32ms/step\n",
            "              precision    recall  f1-score   support\n",
            "\n",
            "           0       0.98      1.00      0.99       965\n",
            "           1       0.99      0.88      0.93       150\n",
            "\n",
            "    accuracy                           0.98      1115\n",
            "   macro avg       0.99      0.94      0.96      1115\n",
            "weighted avg       0.98      0.98      0.98      1115\n",
            "\n"
          ]
        }
      ]
    },
    {
      "cell_type": "code",
      "source": [
        "def classify_sms(text):\n",
        "    # Preprocessing the text\n",
        "    text_seq = tokenizer.texts_to_sequences([text])\n",
        "    text_pad = pad_sequences(text_seq, maxlen=max_sequence_length)\n",
        "\n",
        "    # Predicting the class\n",
        "    prob = model.predict(text_pad)[0][0]\n",
        "    if prob > 0.5:\n",
        "        return \"spam\"\n",
        "    else:\n",
        "        return \"ham\""
      ],
      "metadata": {
        "id": "dzjl5qumsLql"
      },
      "execution_count": null,
      "outputs": []
    },
    {
      "cell_type": "code",
      "source": [
        "custom_sms_spam1 = \"Congratulations! You've won a free vacation. Claim now!\"\n",
        "predicted_class_spam1 = classify_sms(custom_sms_spam1)\n",
        "print(\"Predicted class:\", predicted_class_spam1)\n"
      ],
      "metadata": {
        "colab": {
          "base_uri": "https://localhost:8080/"
        },
        "id": "rWvRS5S0vdtM",
        "outputId": "d439e9e8-b411-4567-d275-fb6006172f84"
      },
      "execution_count": null,
      "outputs": [
        {
          "output_type": "stream",
          "name": "stdout",
          "text": [
            "1/1 [==============================] - 0s 41ms/step\n",
            "Predicted class: spam\n"
          ]
        }
      ]
    },
    {
      "cell_type": "code",
      "source": [
        "custom_sms_ham1 = \"Hi there! Just checking in to see how you're doing.\"\n",
        "predicted_class_ham1 = classify_sms(custom_sms_ham1)\n",
        "print(\"Predicted class:\", predicted_class_ham1)\n"
      ],
      "metadata": {
        "colab": {
          "base_uri": "https://localhost:8080/"
        },
        "id": "Z-91F8U1vmBl",
        "outputId": "d1f5d7b1-4056-44c7-a385-80afbb9088e0"
      },
      "execution_count": null,
      "outputs": [
        {
          "output_type": "stream",
          "name": "stdout",
          "text": [
            "1/1 [==============================] - 0s 31ms/step\n",
            "Predicted class: ham\n"
          ]
        }
      ]
    },
    {
      "cell_type": "code",
      "source": [
        "custom_sms_ham2 = \"Hey, are we still meeting for lunch tomorrow?\"\n",
        "predicted_class_ham2= classify_sms(custom_sms_ham2)\n",
        "print(\"Predicted class:\", predicted_class_ham2)"
      ],
      "metadata": {
        "colab": {
          "base_uri": "https://localhost:8080/"
        },
        "id": "NdAs3P0vvrmE",
        "outputId": "8d4d6fdb-d853-401d-db9c-741a0bcacf28"
      },
      "execution_count": null,
      "outputs": [
        {
          "output_type": "stream",
          "name": "stdout",
          "text": [
            "1/1 [==============================] - 0s 26ms/step\n",
            "Predicted class: ham\n"
          ]
        }
      ]
    },
    {
      "cell_type": "code",
      "source": [
        "custom_sms_spam2 = \"URGENT: You've won a $1000 gift card! Click here to claim.\"\n",
        "predicted_class_spam2  = classify_sms(custom_sms_spam2)\n",
        "print(\"Predicted class:\", predicted_class_spam2)"
      ],
      "metadata": {
        "colab": {
          "base_uri": "https://localhost:8080/"
        },
        "id": "ub8KgvHbv4DG",
        "outputId": "f4b60c65-4648-49cb-c7d5-b4d0d143c02f"
      },
      "execution_count": null,
      "outputs": [
        {
          "output_type": "stream",
          "name": "stdout",
          "text": [
            "1/1 [==============================] - 0s 46ms/step\n",
            "Predicted class: spam\n"
          ]
        }
      ]
    },
    {
      "cell_type": "code",
      "source": [
        "custom_sms_ham3 = \"Hello, it's been a while. How have you been?\"\n",
        "predicted_class_ham3 = classify_sms(custom_sms_ham3)\n",
        "print(\"Predicted class:\", predicted_class_ham3)"
      ],
      "metadata": {
        "colab": {
          "base_uri": "https://localhost:8080/"
        },
        "id": "6FkOcnR9v68J",
        "outputId": "3174270d-dbd3-49ae-bdb8-b2b86ed0700e"
      },
      "execution_count": null,
      "outputs": [
        {
          "output_type": "stream",
          "name": "stdout",
          "text": [
            "1/1 [==============================] - 0s 28ms/step\n",
            "Predicted class: ham\n"
          ]
        }
      ]
    },
    {
      "cell_type": "code",
      "source": [
        "custom_sms_spam3 = \"You've been selected for a free vacation getaway! Click now to claim.\"\n",
        "predicted_class_spam3  = classify_sms(custom_sms_spam3)\n",
        "print(\"Predicted class:\", predicted_class_spam3)\n"
      ],
      "metadata": {
        "colab": {
          "base_uri": "https://localhost:8080/"
        },
        "id": "0WmSz5nGwg_B",
        "outputId": "f39e7aca-c2aa-4732-9757-0bb422b06b75"
      },
      "execution_count": null,
      "outputs": [
        {
          "output_type": "stream",
          "name": "stdout",
          "text": [
            "1/1 [==============================] - 0s 38ms/step\n",
            "Predicted class: spam\n"
          ]
        }
      ]
    },
    {
      "cell_type": "code",
      "source": [],
      "metadata": {
        "id": "S8S9-zYzwla_"
      },
      "execution_count": null,
      "outputs": []
    }
  ]
}